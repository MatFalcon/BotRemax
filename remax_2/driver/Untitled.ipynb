{
 "cells": [
  {
   "cell_type": "code",
   "execution_count": 6,
   "id": "86688c28-1c15-4821-b402-458c96faad55",
   "metadata": {},
   "outputs": [],
   "source": [
    "import pandas as pd\n",
    "\n",
    "base = pd.read_csv('remax_propiedades.csv')"
   ]
  },
  {
   "cell_type": "code",
   "execution_count": 11,
   "id": "a41a65ca-2420-47c5-b274-f00b2d9af212",
   "metadata": {},
   "outputs": [
    {
     "data": {
      "text/plain": [
       "Index(['link', 'tipo', 'publicado_clasipar', 'precio', 'descripcion', 'titulo',\n",
       "       'banio', 'habitaciones', 'ide', 'fecha_inserion', 'publicado_info',\n",
       "       'ciudad', 'publicado_facebook', 'publicado_hendyla', 'agente_remax',\n",
       "       '1publicado_clasipar', '1publicado_info', '1publicado_hendyla',\n",
       "       '1publicado_facebook', '2publicado_clasipar', '2publicado_info',\n",
       "       '2publicado_hendyla', '2publicado_facebook', '3publicado_clasipar',\n",
       "       '3publicado_info', '3publicado_hendyla', '3publicado_facebook',\n",
       "       '4publicado_clasipar', '4publicado_info', '4publicado_hendyla',\n",
       "       '4publicado_facebook', '5publicado_clasipar', '5publicado_info',\n",
       "       '5publicado_hendyla', '5publicado_facebook', '6publicado_clasipar',\n",
       "       '6publicado_info', '6publicado_hendyla', '6publicado_facebook', 'mts'],\n",
       "      dtype='object')"
      ]
     },
     "execution_count": 11,
     "metadata": {},
     "output_type": "execute_result"
    }
   ],
   "source": [
    "base.columns"
   ]
  },
  {
   "cell_type": "code",
   "execution_count": null,
   "id": "e9cd9400-a23d-457b-9fe2-07b6e8ce792a",
   "metadata": {},
   "outputs": [],
   "source": []
  }
 ],
 "metadata": {
  "kernelspec": {
   "display_name": "Python 3 (ipykernel)",
   "language": "python",
   "name": "python3"
  },
  "language_info": {
   "codemirror_mode": {
    "name": "ipython",
    "version": 3
   },
   "file_extension": ".py",
   "mimetype": "text/x-python",
   "name": "python",
   "nbconvert_exporter": "python",
   "pygments_lexer": "ipython3",
   "version": "3.11.7"
  }
 },
 "nbformat": 4,
 "nbformat_minor": 5
}
